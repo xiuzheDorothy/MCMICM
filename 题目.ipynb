{
 "cells": [
  {
   "cell_type": "markdown",
   "metadata": {},
   "source": [
    "# C题"
   ]
  },
  {
   "cell_type": "markdown",
   "metadata": {},
   "source": [
    "在其创建的在线市场中，亚马逊为客户提供了一个评价和审查购买的机会。个人评级——称为“星级评级”——允许购买者使用1(低评级，低满意度)到5(高评级，高满意度)的等级来表达他们对产品的满意度。此外，客户可以提交基于文本的消息—称为“评论”—来表达关于产品的进一步意见和信息。其他客户可以在这些评论中提交对他们自己的产品购买决策是否有帮助的评级——称为“帮助度评级”。公司利用这些数据来洞察他们所参与的市场、参与的时机以及产品设计特性选择的潜在成功。\n",
    "\n",
    "阳光公司计划在网上市场推出并销售三种新产品:微波炉、婴儿奶嘴和电吹风。他们聘请你的团队作为顾问，以确定过去客户提供的与其他竞争产品相关的评级和评论中的关键模式、关系、度量和参数，以1)告知他们的在线销售策略，2)确定可能提高产品吸引力的重要设计特性。阳光公司过去曾使用数据来告知销售策略，但他们以前从未使用过这个特殊的数据\n",
    "\n",
    "关键模式、关系、度量和参数:**key patterns, relationships, measures, and parameters**\n",
    "\n",
    "为了帮助您，Sunshine的数据中心为您提供了三个数据文件：hair_dryer.tsv, microwave.tsv, and pacifier.tsv. 这些数据代表了在数据中显示的时间段内亚马逊市场上销售的微波炉、婴儿奶嘴和吹风机的客户提供的评级和评论。我们提供了数据标签定义的术语表，提供的数据文件包含您应该用于此问题的唯一数据。\n",
    "\n",
    "**要求：**\n",
    "1. 分析所提供的三个产品数据集，以识别，描述和支持数学证据，找出**星级，评论和帮助等级（helpfulness ratings）**之内和之间有意义的定量和/或定性模式，关系，度量和参数，将帮助阳光公司在他们的三个新的在线市场产品提供成功。\n",
    "\n",
    "2. 使用您的分析来解决以下具体问题和阳光公司营销总监的要求:\n",
    "    1. 基于评论和评级确定一个**度量标准 （data measures）**以便于当该公司将产品投放到市场后的追踪\n",
    "    2. 识别并讨论每个数据集中基于时间的度量和模式，这些度量和模式可能表明产品在在线市场中的声誉正在增加或减少\n",
    "    3. 确定基于文本的度量方法和基于评级的度量方法的组合，以最好地指示潜在的成功或失败的产品。\n",
    "    4. 特定的明星评级会引发更多的评论吗?例如，在看到一系列的低星级评价后，客户更有可能写一些评论吗?\n",
    "    5. 基于文本的评论的特定质量描述符，如“热情”、“失望”等，是否与评级水平密切相关?\n",
    "    \n",
    "3. 给阳光公司的市场总监写一封一到两页的信，总结你的团队的分析和结果。包括你的团队最自信地向市场总监推荐的结果的具体理由:\n",
    "\n",
    "Your submission should consist of:\n",
    "- 单页汇总表\n",
    "- 目录\n",
    "- 二页的信\n",
    "\n",
    "注意:参考列表和任何附录不计入页面限制，应在完成解决方案后显示。你不应该使用未经授权的图像和材料，其使用受到版权法的限制。确保你在报告中引用了你的观点和材料。\n",
    "\n",
    "- Helpfulness Rating:在决定是否购买某一产品时，对某一产品的评价是否有价值的一个指标\n",
    "- Review: 对产品的书面评价\n",
    "- Star Rating: 在一个允许人们用若干颗星来评价一个产品的系统中给出的分数。"
   ]
  },
  {
   "cell_type": "markdown",
   "metadata": {},
   "source": [
    "指标：\n",
    "- marketplace (string)：撰写评论的市场的国家代码。\n",
    "- customer_id (string)：可用于聚合单个作者所写的评论的随机标识符。\n",
    "- review_id (string)： review的唯一指定ID\n",
    "- product_id (string)：本评论所涉及的唯一产品ID。\n",
    "- product_parent (string)：可用于聚合同一产品的评论的随机标识符\n",
    "- product_title (string)：产品名称\n",
    "- product_category (string)：产品的主要消费者类别\n",
    "- star_rating (int)：1-5星的产品评级\n",
    "- helpful_votes (int)：Number of helpful votes\n",
    "- total_votes (int)：Number of total votes the review received 评论收到的所有投票：包括有帮助与无帮助\n",
    "- vine (string)：客户被邀请成为Amazon Vine上的声音，这是基于他们在Amazon社区中赢得的信任，因为他们写了准确而有见地的评论。Amazon向Amazon Vine的会员提供免费的产品拷贝，这些产品是由供应商提交给该计划的。亚马逊并不影响他们也不修改或编辑评论。\n",
    "- verified_purchase (string)：“Y”表示，亚马逊证实撰写评论的人在亚马逊购买了该产品，并没有以较低的折扣收到该产品。\n",
    "- review_headline (string)：评论的标题\n",
    "- review_body (string)：The review text\n",
    "- review_date (bigint)：The date the review was written"
   ]
  },
  {
   "cell_type": "markdown",
   "metadata": {},
   "source": [
    "# B题 持续时间最长的沙堡\n",
    "世界上凡是有休闲沙滩的地方，似乎都有孩子(和大人)在海边堆沙堡。去海滩的人利用工具、玩具和想象力，创造出各种各样的沙堡，从简单的沙堆到复杂的带有城墙、塔楼、护城河和其他模仿真正城堡的特征的真实城堡的复制品。一个沙堡的形成如下：由一个单一的，难以描述的湿砂堆，然后继续切割和形状的基础成一个可识别的三维几何形状，在此基础上建立更多的城堡定义的特点。\n",
    "\n",
    "不可避免的是，海浪的流入加上潮汐的上升侵蚀了沙堡。 但是，即使建造的沙丘大小和距离同一海滩的水面大致距离相同，似乎并非所有沙堡对海浪和潮汐的反应方式都相同。 因此，人们想知道是否存在用于沙堡基础的最佳3维几何形状。\n",
    "\n",
    "要求：\n",
    "1. 构建数学模型以识别最佳的3维几何形状，以用作沙堡基础（sandcastle foundation），该沙丘基础将在以下情况下在经历波浪和潮汐的海滨上持续最长的时间：\n",
    "    1. 建在离水大致相同距离的同一海滩上，而且\n",
    "    2. 使用相同类型的沙子，大致相同数量的沙子，相同比例的水和沙子\n",
    "    \n",
    "2. 使用你的模型，为城堡的基础确定一个最佳的水沙混合比例，假设你没有使用其他添加剂或材料\n",
    "3. 根据需要调整您的模型，以确定您在需求1中确定的最佳三维沙堡基础如何受到雨的影响，以及它是否仍然是下雨时用作城堡基础的最佳三维几何形状。\n",
    "4. 如果有其他的策略，你会用什么来使你的沙堡持续更长的时间呢?\n",
    "5. 最后，写一篇内容翔实、一到两页的文章，描述你的模型及其结果，并发表在《度假杂志:阳光下的乐趣》(vacation magazine: Fun in the Sun)上，其读者主要是非技术性的。"
   ]
  },
  {
   "cell_type": "markdown",
   "metadata": {},
   "source": [
    "$$\\frac{有帮助}{总数}f(x)$$"
   ]
  },
  {
   "cell_type": "markdown",
   "metadata": {},
   "source": [
    "$$产品指标=\\alpha评论情感取向+\\beta评星+\\gamma评论价值度$$\n",
    "$$销量=f(产品指标)$$\n",
    "$$评论情感取向=g(评论)$$"
   ]
  },
  {
   "cell_type": "code",
   "execution_count": null,
   "metadata": {},
   "outputs": [],
   "source": []
  }
 ],
 "metadata": {
  "kernelspec": {
   "display_name": "Python 3",
   "language": "python",
   "name": "python3"
  },
  "language_info": {
   "codemirror_mode": {
    "name": "ipython",
    "version": 3
   },
   "file_extension": ".py",
   "mimetype": "text/x-python",
   "name": "python",
   "nbconvert_exporter": "python",
   "pygments_lexer": "ipython3",
   "version": "3.6.5"
  },
  "toc": {
   "base_numbering": 1,
   "nav_menu": {},
   "number_sections": true,
   "sideBar": true,
   "skip_h1_title": false,
   "title_cell": "Table of Contents",
   "title_sidebar": "Contents",
   "toc_cell": false,
   "toc_position": {},
   "toc_section_display": true,
   "toc_window_display": false
  },
  "varInspector": {
   "cols": {
    "lenName": 16,
    "lenType": 16,
    "lenVar": 40
   },
   "kernels_config": {
    "python": {
     "delete_cmd_postfix": "",
     "delete_cmd_prefix": "del ",
     "library": "var_list.py",
     "varRefreshCmd": "print(var_dic_list())"
    },
    "r": {
     "delete_cmd_postfix": ") ",
     "delete_cmd_prefix": "rm(",
     "library": "var_list.r",
     "varRefreshCmd": "cat(var_dic_list()) "
    }
   },
   "types_to_exclude": [
    "module",
    "function",
    "builtin_function_or_method",
    "instance",
    "_Feature"
   ],
   "window_display": false
  }
 },
 "nbformat": 4,
 "nbformat_minor": 4
}
