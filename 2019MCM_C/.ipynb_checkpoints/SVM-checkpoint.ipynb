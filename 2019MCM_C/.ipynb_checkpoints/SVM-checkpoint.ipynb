{
 "cells": [
  {
   "cell_type": "markdown",
   "metadata": {},
   "source": [
    "# 将SVM应用于评价药物识别阈值水平\n",
    "在一些县，阿片类药物鉴定数量明显高于该州其他地区。这表明这个县有更严重的毒品滥用问题。大量的毒品事件也反映了**人口的密集，这对毒品的传播有很大的影响**。在大多数情况下，异常值数据要么显示错误，要么应该突出显示。这里我们假设一些国家已经面临阿片类药物危机。通过观察发现，药品报告较少的县与报告较多的县之间存在一定的差距。**因此，我们使用SVM来区分这些县**。毒品报告较多的县则面临阿片类药物危机"
   ]
  },
  {
   "cell_type": "code",
   "execution_count": null,
   "metadata": {},
   "outputs": [],
   "source": []
  }
 ],
 "metadata": {
  "kernelspec": {
   "display_name": "Python 3",
   "language": "python",
   "name": "python3"
  },
  "language_info": {
   "codemirror_mode": {
    "name": "ipython",
    "version": 3
   },
   "file_extension": ".py",
   "mimetype": "text/x-python",
   "name": "python",
   "nbconvert_exporter": "python",
   "pygments_lexer": "ipython3",
   "version": "3.6.5"
  },
  "toc": {
   "base_numbering": 1,
   "nav_menu": {},
   "number_sections": true,
   "sideBar": true,
   "skip_h1_title": false,
   "title_cell": "Table of Contents",
   "title_sidebar": "Contents",
   "toc_cell": false,
   "toc_position": {},
   "toc_section_display": true,
   "toc_window_display": false
  }
 },
 "nbformat": 4,
 "nbformat_minor": 2
}
